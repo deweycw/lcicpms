{
 "cells": [
  {
   "cell_type": "code",
   "execution_count": 1,
   "metadata": {},
   "outputs": [
    {
     "name": "stdout",
     "output_type": "stream",
     "text": [
      "loading all files in /Users/christiandewey/Code/lcicpms/test-data/\n"
     ]
    }
   ],
   "source": [
    "from lcicpms.dataset import Dataset\n",
    "\n",
    "data_dir = \"/Users/christiandewey/Code/lcicpms/test-data/\"\n",
    "cal_dir = \"/Users/christiandewey/Code/lcicpms/test-data/standards/\"\n",
    "\n",
    "dset = Dataset(raw_data_dir = data_dir, cal_data_dir = cal_dir)\n"
   ]
  },
  {
   "cell_type": "code",
   "execution_count": 2,
   "metadata": {},
   "outputs": [
    {
     "name": "stdout",
     "output_type": "stream",
     "text": [
      "loading calibration files in /Users/christiandewey/Code/lcicpms/test-data/standards/\n"
     ]
    }
   ],
   "source": [
    "dset.run_calibration(cal_keywords_by_conc=['1%_nitric','10ppb','25ppb','50ppb','100ppb','200ppb'])"
   ]
  },
  {
   "cell_type": "code",
   "execution_count": 3,
   "metadata": {},
   "outputs": [
    {
     "name": "stdout",
     "output_type": "stream",
     "text": [
      "running 115In internal standard correction\n",
      "integrating from min time to max time for /Users/christiandewey/Code/lcicpms/test-data/LN_20230223_PE_ENV3_400ppbCu.csv\n",
      "integrating from min time to max time for /Users/christiandewey/Code/lcicpms/test-data/LN_20230223_SE_ENV2_400ppbCu.csv\n",
      "integrating from min time to max time for /Users/christiandewey/Code/lcicpms/test-data/LN_20230223_TR_ENV1_mod.csv\n",
      "integrating from min time to max time for /Users/christiandewey/Code/lcicpms/test-data/LN_20230223_SE_ENV1.csv\n",
      "integrating from min time to max time for /Users/christiandewey/Code/lcicpms/test-data/LN_20230223_FE_ENV1.csv\n",
      "integrating from min time to max time for /Users/christiandewey/Code/lcicpms/test-data/LN_20230223_FE_ENV3.csv\n",
      "integrating from min time to max time for /Users/christiandewey/Code/lcicpms/test-data/LN_20230223_TR_ENV2_400ppbCu.csv\n",
      "integrating from min time to max time for /Users/christiandewey/Code/lcicpms/test-data/LN_20230223_SE_ENV2.csv\n",
      "integrating from min time to max time for /Users/christiandewey/Code/lcicpms/test-data/LN_20230223_SE_ENV3.csv\n",
      "integrating from min time to max time for /Users/christiandewey/Code/lcicpms/test-data/LN_20230223_FE_ENV2.csv\n",
      "integrating from min time to max time for /Users/christiandewey/Code/lcicpms/test-data/LN_20230223_PE_ENV1.csv\n",
      "integrating from min time to max time for /Users/christiandewey/Code/lcicpms/test-data/LN_20230223_PE_ENV3.csv\n",
      "integrating from min time to max time for /Users/christiandewey/Code/lcicpms/test-data/LN_20230223_TR_ENV1_400ppbCu.csv\n",
      "integrating from min time to max time for /Users/christiandewey/Code/lcicpms/test-data/LN_20230223_PE_ENV2.csv\n",
      "integrating from min time to max time for /Users/christiandewey/Code/lcicpms/test-data/LN_20230223_TR_ENV2.csv\n",
      "integrating from min time to max time for /Users/christiandewey/Code/lcicpms/test-data/LN_20230223_TR_ENV3.csv\n",
      "integrating from min time to max time for /Users/christiandewey/Code/lcicpms/test-data/LN_20230223_TR_ENV1.csv\n",
      "integrating from min time to max time for /Users/christiandewey/Code/lcicpms/test-data/LN_20230223_Blank_ENV.csv\n",
      "integrating from min time to max time for /Users/christiandewey/Code/lcicpms/test-data/LN_20230223_PE_ENV1_400ppbCu.csv\n",
      "integrating from min time to max time for /Users/christiandewey/Code/lcicpms/test-data/LN_20230223_FE_ENV3_400ppbCu.csv\n",
      "integrating from min time to max time for /Users/christiandewey/Code/lcicpms/test-data/LN_20230223_FE_ENV2_400ppbCu.csv\n",
      "integrating from min time to max time for /Users/christiandewey/Code/lcicpms/test-data/LN_20230223_SE_ENV1_400ppbCu.csv\n"
     ]
    }
   ],
   "source": [
    "dset.quantitate()"
   ]
  }
 ],
 "metadata": {
  "kernelspec": {
   "display_name": "env",
   "language": "python",
   "name": "python3"
  },
  "language_info": {
   "codemirror_mode": {
    "name": "ipython",
    "version": 3
   },
   "file_extension": ".py",
   "mimetype": "text/x-python",
   "name": "python",
   "nbconvert_exporter": "python",
   "pygments_lexer": "ipython3",
   "version": "3.12.4"
  }
 },
 "nbformat": 4,
 "nbformat_minor": 2
}
